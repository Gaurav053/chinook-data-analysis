{
 "cells": [
  {
   "cell_type": "code",
   "execution_count": 4,
   "metadata": {
    "collapsed": true
   },
   "outputs": [],
   "source": [
    "import sqlite3 as sql\n",
    "import pandas as pd"
   ]
  },
  {
   "cell_type": "code",
   "execution_count": 2,
   "metadata": {
    "collapsed": true
   },
   "outputs": [],
   "source": [
    "conn = sql.connect('chinook.db')"
   ]
  },
  {
   "cell_type": "code",
   "execution_count": 3,
   "metadata": {
    "collapsed": false
   },
   "outputs": [
    {
     "data": {
      "text/plain": [
       "[(1,\n",
       "  'Luís',\n",
       "  'Gonçalves',\n",
       "  'Embraer - Empresa Brasileira de Aeronáutica S.A.',\n",
       "  'Av. Brigadeiro Faria Lima, 2170',\n",
       "  'São José dos Campos',\n",
       "  'SP',\n",
       "  'Brazil',\n",
       "  '12227-000',\n",
       "  '+55 (12) 3923-5555',\n",
       "  '+55 (12) 3923-5566',\n",
       "  'luisg@embraer.com.br',\n",
       "  3),\n",
       " (2,\n",
       "  'Leonie',\n",
       "  'Köhler',\n",
       "  None,\n",
       "  'Theodor-Heuss-Straße 34',\n",
       "  'Stuttgart',\n",
       "  None,\n",
       "  'Germany',\n",
       "  '70174',\n",
       "  '+49 0711 2842222',\n",
       "  None,\n",
       "  'leonekohler@surfeu.de',\n",
       "  5),\n",
       " (3,\n",
       "  'François',\n",
       "  'Tremblay',\n",
       "  None,\n",
       "  '1498 rue Bélanger',\n",
       "  'Montréal',\n",
       "  'QC',\n",
       "  'Canada',\n",
       "  'H2G 1A7',\n",
       "  '+1 (514) 721-4711',\n",
       "  None,\n",
       "  'ftremblay@gmail.com',\n",
       "  3),\n",
       " (4,\n",
       "  'Bjørn',\n",
       "  'Hansen',\n",
       "  None,\n",
       "  'Ullevålsveien 14',\n",
       "  'Oslo',\n",
       "  None,\n",
       "  'Norway',\n",
       "  '0171',\n",
       "  '+47 22 44 22 22',\n",
       "  None,\n",
       "  'bjorn.hansen@yahoo.no',\n",
       "  4),\n",
       " (5,\n",
       "  'František',\n",
       "  'Wichterlová',\n",
       "  'JetBrains s.r.o.',\n",
       "  'Klanova 9/506',\n",
       "  'Prague',\n",
       "  None,\n",
       "  'Czech Republic',\n",
       "  '14700',\n",
       "  '+420 2 4172 5555',\n",
       "  '+420 2 4172 5555',\n",
       "  'frantisekw@jetbrains.com',\n",
       "  4),\n",
       " (6,\n",
       "  'Helena',\n",
       "  'Holý',\n",
       "  None,\n",
       "  'Rilská 3174/6',\n",
       "  'Prague',\n",
       "  None,\n",
       "  'Czech Republic',\n",
       "  '14300',\n",
       "  '+420 2 4177 0449',\n",
       "  None,\n",
       "  'hholy@gmail.com',\n",
       "  5),\n",
       " (7,\n",
       "  'Astrid',\n",
       "  'Gruber',\n",
       "  None,\n",
       "  'Rotenturmstraße 4, 1010 Innere Stadt',\n",
       "  'Vienne',\n",
       "  None,\n",
       "  'Austria',\n",
       "  '1010',\n",
       "  '+43 01 5134505',\n",
       "  None,\n",
       "  'astrid.gruber@apple.at',\n",
       "  5),\n",
       " (8,\n",
       "  'Daan',\n",
       "  'Peeters',\n",
       "  None,\n",
       "  'Grétrystraat 63',\n",
       "  'Brussels',\n",
       "  None,\n",
       "  'Belgium',\n",
       "  '1000',\n",
       "  '+32 02 219 03 03',\n",
       "  None,\n",
       "  'daan_peeters@apple.be',\n",
       "  4),\n",
       " (9,\n",
       "  'Kara',\n",
       "  'Nielsen',\n",
       "  None,\n",
       "  'Sønder Boulevard 51',\n",
       "  'Copenhagen',\n",
       "  None,\n",
       "  'Denmark',\n",
       "  '1720',\n",
       "  '+453 3331 9991',\n",
       "  None,\n",
       "  'kara.nielsen@jubii.dk',\n",
       "  4),\n",
       " (10,\n",
       "  'Eduardo',\n",
       "  'Martins',\n",
       "  'Woodstock Discos',\n",
       "  'Rua Dr. Falcão Filho, 155',\n",
       "  'São Paulo',\n",
       "  'SP',\n",
       "  'Brazil',\n",
       "  '01007-010',\n",
       "  '+55 (11) 3033-5446',\n",
       "  '+55 (11) 3033-4564',\n",
       "  'eduardo@woodstock.com.br',\n",
       "  4)]"
      ]
     },
     "execution_count": 3,
     "metadata": {},
     "output_type": "execute_result"
    }
   ],
   "source": [
    "query = 'select * from customer limit 10'\n",
    "pd.re"
   ]
  },
  {
   "cell_type": "code",
   "execution_count": null,
   "metadata": {
    "collapsed": true
   },
   "outputs": [],
   "source": []
  }
 ],
 "metadata": {
  "kernelspec": {
   "display_name": "Python 3",
   "language": "python",
   "name": "python3"
  },
  "language_info": {
   "codemirror_mode": {
    "name": "ipython",
    "version": 3
   },
   "file_extension": ".py",
   "mimetype": "text/x-python",
   "name": "python",
   "nbconvert_exporter": "python",
   "pygments_lexer": "ipython3",
   "version": "3.4.3"
  }
 },
 "nbformat": 4,
 "nbformat_minor": 2
}
